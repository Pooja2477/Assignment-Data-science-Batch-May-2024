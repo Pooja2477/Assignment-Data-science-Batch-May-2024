{
 "cells": [
  {
   "cell_type": "code",
   "execution_count": 5,
   "id": "7d70bb65-520a-4b28-9c54-cc0c4cd9ca98",
   "metadata": {},
   "outputs": [],
   "source": [
    "from scipy import stats\n",
    "import scipy\n",
    "import math\n",
    "import numpy as np\n",
    "from scipy.stats import norm"
   ]
  },
  {
   "cell_type": "markdown",
   "id": "2a4a119b-67d4-4dbd-ac8c-79c03794d9f8",
   "metadata": {},
   "source": [
    ".HYPOTHESIS TESTING\n",
    ".Background:\n",
    "Bombay hospitality Ltd. operates a franchise model for producing exotic Norwegian dinners throughout New England.\n",
    "The operating cost for a franchise in a week (W) is given by the equation W = $1,000 + $5X, where X represents the number of units \n",
    "produced in a week. Recent feedback from restaurant owners suggests that this cost model may no longer be accurate, as their observed weekly\n",
    "operating costs are higher.\n",
    ".Objective:\n",
    "To investigate the restaurant owners' claim about the increase in weekly operating costs using hypothesis testing.\n",
    "Data Provided:\n",
    "•\tThe theoretical weekly operating cost model: W = $1,000 + $5X\n",
    "•\tSample of 25 restaurants with a mean weekly cost of Rs. 3,050\n",
    "•\tNumber of units produced in a week (X) follows a normal distribution with a mean (μ) of 600 units and a standard deviation (σ) of 25 units\n",
    ".Assignment Tasks:\n",
    "1. State the Hypotheses statement:\n",
    "2. Calculate the Test Statistic:\n",
    "Use the following formula to calculate the test statistic (t):\n",
    "where:\n",
    "•\tˉxˉ = sample mean weekly cost (Rs. 3,050)\n",
    "•\tμ = theoretical mean weekly cost according to the cost model (W = $1,000 + $5X for X = 600 units)\n",
    "•\tσ = 5*25 units\n",
    "•\tn = sample size (25 restaurants)\n",
    "3. Determine the Critical Value:\n",
    "Using the alpha level of 5% (α = 0.05), determine the critical value from the standard normal (Z) distribution table.\n",
    "4. Make a Decision:\n",
    "Compare the test statistic with the critical value to decide whether to reject the null hypothesis.\n",
    "5. Conclusion:\n",
    "Based on the decision in step 4, conclude whether there is strong evidence to support the restaurant owners' claim that the weekly operating costs are higher than the model suggests.\n",
    "\n",
    "solution:\r",
    "\tpopulation_mean=1000+5*600=4000standard_deviation\tσ = 5*25 units =12 = sam_le si= e \n",
    "sample_mean=3050\n",
    "confidence_level=0.95\n",
    "alpha=0.05\n",
    "\r\n",
    "\n",
    "\n"
   ]
  },
  {
   "cell_type": "markdown",
   "id": "6047282f-02b2-4aa0-94c4-edb572664a0b",
   "metadata": {},
   "source": [
    ".State the hypothesis statement\n",
    ".null hypothesis: there is not strong evidence to support the restaurant owners' claim that the weekly operating costs are higher than the model suggests.\n",
    ".alternate hypothesis: there is strong evidence to support the restaurant owners' claim that the weekly operating costs are higher than \n",
    "the model suggests.\n"
   ]
  },
  {
   "cell_type": "code",
   "execution_count": 6,
   "id": "c05552d1-5330-4dc4-94df-3a939aebe10e",
   "metadata": {},
   "outputs": [
    {
     "name": "stdout",
     "output_type": "stream",
     "text": [
      "test_statistic (Z) : -38.0\n"
     ]
    }
   ],
   "source": [
    "#calculate state statistics\n",
    "# used z test \n",
    "population_mean=4000\n",
    "standard_deviation =125\n",
    "n= 25\n",
    "sample_mean=3050\n",
    "confidence_level=0.95\n",
    "alpha=0.05\n",
    "standard_error=standard_deviation/ np.sqrt(n)\n",
    "test_statistic= (sample_mean-population_mean)/standard_error\n",
    "print(\"test_statistic (Z) :\",test_statistic)"
   ]
  },
  {
   "cell_type": "code",
   "execution_count": 7,
   "id": "453fd5ed-3adc-4dc3-9966-d686a03cfacb",
   "metadata": {},
   "outputs": [
    {
     "name": "stdout",
     "output_type": "stream",
     "text": [
      " critical value (z_critical): 1.6448536269514722\n"
     ]
    }
   ],
   "source": [
    " z_critical=norm.ppf(1-0.05)\n",
    "print(\" critical value (z_critical):\",z_critical)"
   ]
  },
  {
   "cell_type": "code",
   "execution_count": 18,
   "id": "51c8764e-3c88-4dd1-8d3b-72245c58a943",
   "metadata": {},
   "outputs": [
    {
     "name": "stdout",
     "output_type": "stream",
     "text": [
      "fail to H.there is not strong evidence to support the restaurant owners claim that the weekly operating costs are higher than the model suggests\n"
     ]
    }
   ],
   "source": [
    "if z_critical < test_statistic:\n",
    "    print(\"Reject null hypothesis .there is strong evidence to support the restaurant owners claim that the weekly operating costs are higher than the model suggests.\")\n",
    "else:\n",
    "    print(\"fail to H.there is not strong evidence to support the restaurant owners claim that the weekly operating costs are higher than the model suggests\")\n",
    "    "
   ]
  },
  {
   "cell_type": "code",
   "execution_count": null,
   "id": "21979770-2537-4308-a86f-61730c12437f",
   "metadata": {},
   "outputs": [],
   "source": []
  },
  {
   "cell_type": "raw",
   "id": "2eae0054-037d-4008-b118-b0c552a07cb7",
   "metadata": {},
   "source": []
  },
  {
   "cell_type": "code",
   "execution_count": null,
   "id": "e532cac0-fb6b-4e8e-b301-f61fe9fa9316",
   "metadata": {},
   "outputs": [],
   "source": []
  },
  {
   "cell_type": "code",
   "execution_count": null,
   "id": "eb262f6d-0dfe-4d4b-9854-6e1c78d3524c",
   "metadata": {},
   "outputs": [],
   "source": []
  }
 ],
 "metadata": {
  "kernelspec": {
   "display_name": "Python 3 (ipykernel)",
   "language": "python",
   "name": "python3"
  },
  "language_info": {
   "codemirror_mode": {
    "name": "ipython",
    "version": 3
   },
   "file_extension": ".py",
   "mimetype": "text/x-python",
   "name": "python",
   "nbconvert_exporter": "python",
   "pygments_lexer": "ipython3",
   "version": "3.11.7"
  }
 },
 "nbformat": 4,
 "nbformat_minor": 5
}
