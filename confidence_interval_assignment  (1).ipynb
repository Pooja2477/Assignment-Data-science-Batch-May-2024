{
 "cells": [
  {
   "cell_type": "markdown",
   "id": "9c04549a-eb62-47de-a7ef-3430ead19802",
   "metadata": {},
   "source": [
    "Assignment Tasks\n",
    "a. Build 99% Confidence Interval Using Sample Standard Deviation\n",
    "Assuming the sample is representative of the population, construct a 99% confidence interval for the mean number of characters \n",
    "printed before the print-head fails using the sample standard deviation. Explain the steps you take and the rationale behind using\n",
    "the t-distribution for this task.\n",
    "b. Build 99% Confidence Interval Using Known Population Standard Deviation\n",
    "If it were known that the population standard deviation is 0.2 million characters, construct a 99% confidence interval\n",
    "for the mean number of characters printed before failure.\n"
   ]
  },
  {
   "cell_type": "code",
   "execution_count": 33,
   "id": "79a7fa0c-f440-4f15-8013-7c51f9cb485b",
   "metadata": {},
   "outputs": [
    {
     "data": {
      "text/plain": [
       "[1.13,\n",
       " 1.55,\n",
       " 1.43,\n",
       " 0.92,\n",
       " 1.25,\n",
       " 1.36,\n",
       " 1.32,\n",
       " 0.85,\n",
       " 1.07,\n",
       " 1.48,\n",
       " 1.2,\n",
       " 1.33,\n",
       " 1.18,\n",
       " 1.22,\n",
       " 1.29]"
      ]
     },
     "execution_count": 33,
     "metadata": {},
     "output_type": "execute_result"
    }
   ],
   "source": [
    "import numpy as np\n",
    "import scipy.stats as st\n",
    "import statistics\n",
    "data=[1.13, 1.55, 1.43, 0.92, 1.25, 1.36, 1.32, 0.85, 1.07, 1.48, 1.20, 1.33, 1.18, 1.22, 1.29]\n",
    "data"
   ]
  },
  {
   "cell_type": "code",
   "execution_count": 34,
   "id": "58803834-6c6b-416b-9ff4-86b94217a0db",
   "metadata": {},
   "outputs": [
    {
     "data": {
      "text/plain": [
       "1.2386666666666666"
      ]
     },
     "execution_count": 34,
     "metadata": {},
     "output_type": "execute_result"
    }
   ],
   "source": [
    "#Assignment task a\n",
    "sample_mean=np.mean(data)\n",
    "sample_mean"
   ]
  },
  {
   "cell_type": "code",
   "execution_count": 35,
   "id": "1d94775e-428c-4deb-af77-1689f19f793e",
   "metadata": {},
   "outputs": [
    {
     "data": {
      "text/plain": [
       "0.19316412956959933"
      ]
     },
     "execution_count": 35,
     "metadata": {},
     "output_type": "execute_result"
    }
   ],
   "source": [
    "sample_standard_deviation=statistics.stdev(data)\n",
    "sample_standard_deviation"
   ]
  },
  {
   "cell_type": "code",
   "execution_count": 36,
   "id": "e4671c0a-6e7d-441c-8933-ac50e085279f",
   "metadata": {},
   "outputs": [
    {
     "data": {
      "text/plain": [
       "15"
      ]
     },
     "execution_count": 36,
     "metadata": {},
     "output_type": "execute_result"
    }
   ],
   "source": [
    "df=len(data)\n",
    "df"
   ]
  },
  {
   "cell_type": "code",
   "execution_count": 37,
   "id": "45c5f5b0-bd94-4076-9232-835a0ff48414",
   "metadata": {},
   "outputs": [],
   "source": [
    "confidence_level=0.99\n",
    "#significantt level\n",
    "alpha_value=0.01\n",
    "sample_size=15"
   ]
  },
  {
   "cell_type": "code",
   "execution_count": 38,
   "id": "52a71912-73f6-4ffd-a278-933c149caaf0",
   "metadata": {},
   "outputs": [
    {
     "ename": "NameError",
     "evalue": "name 'stats' is not defined",
     "output_type": "error",
     "traceback": [
      "\u001b[1;31m---------------------------------------------------------------------------\u001b[0m",
      "\u001b[1;31mNameError\u001b[0m                                 Traceback (most recent call last)",
      "Cell \u001b[1;32mIn[38], line 1\u001b[0m\n\u001b[1;32m----> 1\u001b[0m t_value\u001b[38;5;241m=\u001b[39mstats\u001b[38;5;241m.\u001b[39mt\u001b[38;5;241m.\u001b[39mppf(\u001b[38;5;241m1\u001b[39m\u001b[38;5;241m-\u001b[39malpha_value,df\u001b[38;5;241m-\u001b[39m\u001b[38;5;241m1\u001b[39m)\n\u001b[0;32m      2\u001b[0m t_value\n",
      "\u001b[1;31mNameError\u001b[0m: name 'stats' is not defined"
     ]
    }
   ],
   "source": [
    "t_value=stats.t.ppf(1-alpha_value,df-1)\n",
    "t_value"
   ]
  },
  {
   "cell_type": "code",
   "execution_count": 39,
   "id": "498caf4e-e0a6-40e9-b82d-df327fa931cc",
   "metadata": {},
   "outputs": [
    {
     "ename": "NameError",
     "evalue": "name 't_value' is not defined",
     "output_type": "error",
     "traceback": [
      "\u001b[1;31m---------------------------------------------------------------------------\u001b[0m",
      "\u001b[1;31mNameError\u001b[0m                                 Traceback (most recent call last)",
      "Cell \u001b[1;32mIn[39], line 1\u001b[0m\n\u001b[1;32m----> 1\u001b[0m margin_of_error\u001b[38;5;241m=\u001b[39mt_value\u001b[38;5;241m*\u001b[39m(sample_standard_deviation\u001b[38;5;241m/\u001b[39mmath\u001b[38;5;241m.\u001b[39msqrt(sample_size))\n\u001b[0;32m      2\u001b[0m margin_of_error\n",
      "\u001b[1;31mNameError\u001b[0m: name 't_value' is not defined"
     ]
    }
   ],
   "source": [
    "margin_of_error=t_value*(sample_standard_deviation/math.sqrt(sample_size))\n",
    "margin_of_error"
   ]
  },
  {
   "cell_type": "code",
   "execution_count": 40,
   "id": "fa8ca0d4-ed8c-4195-a731-df4b3c660aa0",
   "metadata": {},
   "outputs": [
    {
     "ename": "NameError",
     "evalue": "name 'margin_of_error' is not defined",
     "output_type": "error",
     "traceback": [
      "\u001b[1;31m---------------------------------------------------------------------------\u001b[0m",
      "\u001b[1;31mNameError\u001b[0m                                 Traceback (most recent call last)",
      "Cell \u001b[1;32mIn[40], line 1\u001b[0m\n\u001b[1;32m----> 1\u001b[0m upper_limit\u001b[38;5;241m=\u001b[39msample_mean\u001b[38;5;241m+\u001b[39mmargin_of_error\n\u001b[0;32m      2\u001b[0m \u001b[38;5;28mprint\u001b[39m(upper_limit)\n",
      "\u001b[1;31mNameError\u001b[0m: name 'margin_of_error' is not defined"
     ]
    }
   ],
   "source": [
    "upper_limit=sample_mean+margin_of_error\n",
    "print(upper_limit)"
   ]
  },
  {
   "cell_type": "code",
   "execution_count": 41,
   "id": "1204eb34-89ff-4b7c-a804-8153e74108fd",
   "metadata": {},
   "outputs": [
    {
     "ename": "NameError",
     "evalue": "name 'margin_of_error' is not defined",
     "output_type": "error",
     "traceback": [
      "\u001b[1;31m---------------------------------------------------------------------------\u001b[0m",
      "\u001b[1;31mNameError\u001b[0m                                 Traceback (most recent call last)",
      "Cell \u001b[1;32mIn[41], line 1\u001b[0m\n\u001b[1;32m----> 1\u001b[0m lower_limit\u001b[38;5;241m=\u001b[39msample_mean\u001b[38;5;241m-\u001b[39mmargin_of_error\n\u001b[0;32m      2\u001b[0m lower_limit\n",
      "\u001b[1;31mNameError\u001b[0m: name 'margin_of_error' is not defined"
     ]
    }
   ],
   "source": [
    "lower_limit=sample_mean-margin_of_error\n",
    "lower_limit"
   ]
  },
  {
   "cell_type": "code",
   "execution_count": 42,
   "id": "f1db2b6f-5f7e-418c-a17d-28eed2a4e011",
   "metadata": {},
   "outputs": [
    {
     "ename": "NameError",
     "evalue": "name 'lower_limit' is not defined",
     "output_type": "error",
     "traceback": [
      "\u001b[1;31m---------------------------------------------------------------------------\u001b[0m",
      "\u001b[1;31mNameError\u001b[0m                                 Traceback (most recent call last)",
      "Cell \u001b[1;32mIn[42], line 1\u001b[0m\n\u001b[1;32m----> 1\u001b[0m \u001b[38;5;28mprint\u001b[39m(\u001b[38;5;124mf\u001b[39m\u001b[38;5;124m\"\u001b[39m\u001b[38;5;124mconfidence interval : (\u001b[39m\u001b[38;5;132;01m{\u001b[39;00mlower_limit\u001b[38;5;132;01m}\u001b[39;00m\u001b[38;5;124m,\u001b[39m\u001b[38;5;132;01m{\u001b[39;00mupper_limit\u001b[38;5;132;01m}\u001b[39;00m\u001b[38;5;124m)\u001b[39m\u001b[38;5;124m\"\u001b[39m)\n",
      "\u001b[1;31mNameError\u001b[0m: name 'lower_limit' is not defined"
     ]
    }
   ],
   "source": [
    "print(f\"confidence interval : ({lower_limit},{upper_limit})\")"
   ]
  },
  {
   "cell_type": "code",
   "execution_count": 18,
   "id": "6813fa6b-b23e-4185-af98-b1dac61e112c",
   "metadata": {},
   "outputs": [
    {
     "data": {
      "text/plain": [
       "1.2386666666666666"
      ]
     },
     "execution_count": 18,
     "metadata": {},
     "output_type": "execute_result"
    }
   ],
   "source": [
    "# Assignment task b\n",
    "sample_mean=np.mean(data)\n",
    "sample_mean"
   ]
  },
  {
   "cell_type": "code",
   "execution_count": 19,
   "id": "52e15714-7c0e-4a91-a444-c67c2b3737ec",
   "metadata": {},
   "outputs": [
    {
     "ename": "NameError",
     "evalue": "name 'math' is not defined",
     "output_type": "error",
     "traceback": [
      "\u001b[1;31m---------------------------------------------------------------------------\u001b[0m",
      "\u001b[1;31mNameError\u001b[0m                                 Traceback (most recent call last)",
      "Cell \u001b[1;32mIn[19], line 5\u001b[0m\n\u001b[0;32m      3\u001b[0m confidence_level\u001b[38;5;241m=\u001b[39m\u001b[38;5;241m0.99\u001b[39m\n\u001b[0;32m      4\u001b[0m z_value\u001b[38;5;241m=\u001b[39m\u001b[38;5;241m2.58\u001b[39m\n\u001b[1;32m----> 5\u001b[0m margin_of_errors\u001b[38;5;241m=\u001b[39mz_value\u001b[38;5;241m*\u001b[39m(population_standard_deviation\u001b[38;5;241m/\u001b[39mmath\u001b[38;5;241m.\u001b[39msqrt(sample_size))\n\u001b[0;32m      6\u001b[0m margin_of_errors\n",
      "\u001b[1;31mNameError\u001b[0m: name 'math' is not defined"
     ]
    }
   ],
   "source": [
    "population_standard_deviation=0.2\n",
    "sample_size=15\n",
    "confidence_level=0.99\n",
    "z_value=2.58\n",
    "margin_of_errors=z_value*(population_standard_deviation/math.sqrt(sample_size))\n",
    "margin_of_errors"
   ]
  },
  {
   "cell_type": "code",
   "execution_count": 20,
   "id": "96cd2d44-ed8c-4ed4-9ec9-0a601bf5ffc0",
   "metadata": {},
   "outputs": [
    {
     "ename": "NameError",
     "evalue": "name 'margin_of_errors' is not defined",
     "output_type": "error",
     "traceback": [
      "\u001b[1;31m---------------------------------------------------------------------------\u001b[0m",
      "\u001b[1;31mNameError\u001b[0m                                 Traceback (most recent call last)",
      "Cell \u001b[1;32mIn[20], line 1\u001b[0m\n\u001b[1;32m----> 1\u001b[0m upper_limits\u001b[38;5;241m=\u001b[39msample_mean\u001b[38;5;241m+\u001b[39mmargin_of_errors\n\u001b[0;32m      2\u001b[0m \u001b[38;5;28mprint\u001b[39m(upper_limits)\n",
      "\u001b[1;31mNameError\u001b[0m: name 'margin_of_errors' is not defined"
     ]
    }
   ],
   "source": [
    "upper_limits=sample_mean+margin_of_errors\n",
    "print(upper_limits)"
   ]
  },
  {
   "cell_type": "code",
   "execution_count": 21,
   "id": "a5e2bf04-7636-4353-a433-e9718a6b24ff",
   "metadata": {},
   "outputs": [
    {
     "ename": "NameError",
     "evalue": "name 'margin_of_errors' is not defined",
     "output_type": "error",
     "traceback": [
      "\u001b[1;31m---------------------------------------------------------------------------\u001b[0m",
      "\u001b[1;31mNameError\u001b[0m                                 Traceback (most recent call last)",
      "Cell \u001b[1;32mIn[21], line 1\u001b[0m\n\u001b[1;32m----> 1\u001b[0m lower_limits\u001b[38;5;241m=\u001b[39msample_mean\u001b[38;5;241m-\u001b[39mmargin_of_errors\n\u001b[0;32m      2\u001b[0m lower_limits\n",
      "\u001b[1;31mNameError\u001b[0m: name 'margin_of_errors' is not defined"
     ]
    }
   ],
   "source": [
    "lower_limits=sample_mean-margin_of_errors\n",
    "lower_limits"
   ]
  },
  {
   "cell_type": "code",
   "execution_count": 22,
   "id": "1f9c7413-8d4e-4f60-bfd1-c0c4981fee51",
   "metadata": {},
   "outputs": [
    {
     "ename": "NameError",
     "evalue": "name 'lower_limits' is not defined",
     "output_type": "error",
     "traceback": [
      "\u001b[1;31m---------------------------------------------------------------------------\u001b[0m",
      "\u001b[1;31mNameError\u001b[0m                                 Traceback (most recent call last)",
      "Cell \u001b[1;32mIn[22], line 1\u001b[0m\n\u001b[1;32m----> 1\u001b[0m \u001b[38;5;28mprint\u001b[39m(\u001b[38;5;124mf\u001b[39m\u001b[38;5;124m\"\u001b[39m\u001b[38;5;124mconfidence interval : (\u001b[39m\u001b[38;5;132;01m{\u001b[39;00mlower_limits\u001b[38;5;132;01m}\u001b[39;00m\u001b[38;5;124m,\u001b[39m\u001b[38;5;132;01m{\u001b[39;00mupper_limits\u001b[38;5;132;01m}\u001b[39;00m\u001b[38;5;124m)\u001b[39m\u001b[38;5;124m\"\u001b[39m)\n",
      "\u001b[1;31mNameError\u001b[0m: name 'lower_limits' is not defined"
     ]
    }
   ],
   "source": [
    "print(f\"confidence interval : ({lower_limits},{upper_limits})\")"
   ]
  },
  {
   "cell_type": "code",
   "execution_count": null,
   "id": "4ca68e9a-8260-4f55-a018-95d7e377abe9",
   "metadata": {},
   "outputs": [],
   "source": []
  },
  {
   "cell_type": "code",
   "execution_count": null,
   "id": "d40614d3-4717-41ef-ab5a-d78809d69fad",
   "metadata": {},
   "outputs": [],
   "source": []
  }
 ],
 "metadata": {
  "kernelspec": {
   "display_name": "Python 3 (ipykernel)",
   "language": "python",
   "name": "python3"
  },
  "language_info": {
   "codemirror_mode": {
    "name": "ipython",
    "version": 3
   },
   "file_extension": ".py",
   "mimetype": "text/x-python",
   "name": "python",
   "nbconvert_exporter": "python",
   "pygments_lexer": "ipython3",
   "version": "3.11.7"
  }
 },
 "nbformat": 4,
 "nbformat_minor": 5
}
